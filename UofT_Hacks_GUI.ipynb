{
  "nbformat": 4,
  "nbformat_minor": 0,
  "metadata": {
    "colab": {
      "name": "UofT Hacks GUI",
      "provenance": [],
      "collapsed_sections": []
    },
    "kernelspec": {
      "name": "python3",
      "display_name": "Python 3"
    },
    "language_info": {
      "name": "python"
    }
  },
  "cells": [
    {
      "cell_type": "code",
      "source": [
        "#Importing pandas for storing data in tables and seaborn for visualizing data.\n",
        "import pandas as pd\n",
        "import seaborn as sns\n",
        "\n",
        "#Data taken from https://www.publichealthontario.ca/en/data-and-analysis/infectious-disease/covid-19-data-surveillance/covid-19-data-tool?tab=maps\n",
        "ontarioMapStats = pd.read_csv('https://raw.githubusercontent.com/RenshiNX/UofTHacksAdroren/main/COVID-19%20map%20data.csv')\n",
        "\n",
        "#Computing a area risk score in four catagories (overal, case rate, hospitalization rate, death rate)\n",
        "ontarioMapStats['Area Risk'] = (ontarioMapStats['Cumulative Case Rate'] + ontarioMapStats['Cumulative Hospitalizations Rate']*26.38 + ontarioMapStats['Cumulative Deaths Rate']*89.47)/330.12276\n",
        "ontarioMapStats['Case Risk'] = (ontarioMapStats['Cumulative Case Rate'])/330.12276\n",
        "ontarioMapStats['Hospitalization Risk'] = (ontarioMapStats['Cumulative Hospitalizations Rate']*26.38)/330.12276\n",
        "ontarioMapStats['Death Risk'] = (ontarioMapStats['Cumulative Deaths Rate']*89.47)/330.12276\n",
        "\n",
        "#Data clean by only taking the geographic area and the risk columns.\n",
        "ontarioMapStats = ontarioMapStats[['Geographic area', 'Area Risk', 'Case Risk', 'Hospitalization Risk', 'Death Risk']]\n",
        "ontarioMapStats = ontarioMapStats.drop(0)\n",
        "ontarioMapStats\n",
        "\n",
        "''' Algoma Public Health\n",
        "Brant County Health Unit\n",
        "Chatham-Kent Public Health\n",
        "City of Hamilton Public Health Services\n",
        "Durham Region Health Department \n",
        "Eastern Ontario Health Unit\n",
        "Grey Bruce Health Unit\n",
        "Haldimand-Norfolk Health Unit\n",
        "Haliburton, Kawartha, Pine Ridge District Health Unit \n",
        "Halton Region Public Health\n",
        "Hastings Prince Edward Public Health\n",
        "Huron Perth Health Unit\n",
        "Kingston, Frontenac and Lennox & Addington Public Health\n",
        "Lambton Public Health\n",
        "Leeds, Grenville & Lanark District Health Unit\n",
        "Middlesex-London Health Unit\n",
        "Niagara Region Public Health\n",
        "North Bay Parry Sound District Health Unit\n",
        "Northwestern Health Unit\n",
        "Ottawa Public Health\n",
        "Peel Public Health\n",
        "Peterborough Public Health \n",
        "Porcupine Health Unit\n",
        "Public Health Sudbury & Districts\n",
        "Region of Waterloo Public Health and Emergency Services\n",
        "Renfrew County and District Health Unit\n",
        "Simcoe Muskoka District Health Unit \n",
        "Southwestern Public Health\n",
        "Thunder Bay District Health Unit\n",
        "Timiskaming Health Unit\n",
        "Toronto Public Health\n",
        "Wellington-Dufferin-Guelph Public Health\n",
        "Windsor-Essex County Health Unit \n",
        "York Region Public Health '''\n",
        "\n",
        "#Getting user input for the location the user is in.\n",
        "userArea = input(\"Please select one of the following public health regions: \")\n",
        "\n",
        "#A function which takes the user's location as input and outputs the area's risk in four catagories.\n",
        "def areaCalc(userAreaTMP):\n",
        "  for index, row in ontarioMapStats.iterrows():\n",
        "    if userArea == row['Geographic area']:\n",
        "      userAreaRisk = str(round(row['Area Risk']))\n",
        "      userCaseRisk = str(round(row['Case Risk']))\n",
        "      userHospitalizationRisk = str(round(row['Hospitalization Risk']))\n",
        "      userDeathRisk = str(round(row['Death Risk']))\n",
        "    else:\n",
        "      pass\n",
        "  return userAreaRisk, userCaseRisk, userHospitalizationRisk, userDeathRisk\n",
        "\n",
        "#Displaying the area's computed risks.\n",
        "result = areaCalc(userArea)\n",
        "print(userArea + \" has a overall risk of: \" + result[0]) \n",
        "print(userArea + \" has a case risk of: \" + result[1])\n",
        "print(userArea + \" has a hospitalization risk of: \" + result[2])\n",
        "print(userArea + \" has a death risk of: \" + result[3])"
      ],
      "metadata": {
        "colab": {
          "base_uri": "https://localhost:8080/"
        },
        "id": "HBcUhMVW1OLy",
        "outputId": "0c59fc9b-b0b3-4225-c71d-1224936420f1"
      },
      "execution_count": null,
      "outputs": [
        {
          "output_type": "stream",
          "name": "stdout",
          "text": [
            "Please select one of the following public health regions: Peel Public Health\n",
            "Peel Public Health has a overall risk of: 74\n",
            "Peel Public Health has a case risk of: 32\n",
            "Peel Public Health has a hospitalization risk of: 22\n",
            "Peel Public Health has a death risk of: 19\n"
          ]
        }
      ]
    },
    {
      "cell_type": "code",
      "source": [
        "#Getting user's personal information as input.\n",
        "userAge = int(input(\"Please enter your age from 16-99: \"))\n",
        "userGender = input(\"Please enter your gender (Male, Female, Other): \")\n",
        "userRace = input(\"Please enter your race (White, Asian, Black, Mixed, Other): \")\n",
        "userBMI = float(input(\"Please enter your BMI: \"))\n",
        "userDiabetes = int(input(\"Do you have diabetes? 0 for no, 1 for type 1, 2 for type 2: \"))\n",
        "userAsthma = int(input(\"Do you have asthma? 0 for no, 1 for mild, 2 for severe: \"))\n",
        "userKidney = int(input(\"Do you have a kidney disease? 0 for no, 1 for yes: \"))\n",
        "userHeart = int(input(\"Do you have a heart disease? 0 for no, 1 for yes: \"))\n",
        "userBloodCancer = int(input(\"Do you have a blood cancer? 0 for no, 1 for yes: \"))\n",
        "userCancer = int(input(\"Do you have a cancer? 0 for no, 1 for yes: \"))\n",
        "\n",
        "#A function that uses the user's personal information as input and output's the user's personal risk score.\n",
        "def personCalc(userAge, userGender, userRace, userBMI, userDiabetes, userAsthma, userKidney, userHeart, userBloodCancer, userCancer):\n",
        "  #The metrics used for this function is taken from https://alama.org.uk/covid-19-medical-risk-assessment/\n",
        "  if userRace == \"White\":\n",
        "    raceValue = 0\n",
        "  elif userRace == \"Asian\":\n",
        "    raceValue = 5\n",
        "  elif userRace == \"Black\":\n",
        "    raceValue = 7\n",
        "  else:\n",
        "    raceValue = 4\n",
        "  \n",
        "  if userGender == \"Male\":\n",
        "    genderValue = 0\n",
        "  elif userGender == \"Female\":\n",
        "    genderValue = -5\n",
        "  else:\n",
        "    genderValue = 0\n",
        "  \n",
        "  if userBMI < 30:\n",
        "    BMIValue = 0\n",
        "  elif userBMI < 35:\n",
        "    BMIValue = 7\n",
        "  elif userBMI < 40:\n",
        "    BMIValue = 19\n",
        "  else:\n",
        "    BMIValue = 25\n",
        "  \n",
        "  if userDiabetes == 0:\n",
        "    diabetesValue = 0\n",
        "  elif userDiabetes == 1:\n",
        "    diabetesValue = 25\n",
        "  else:\n",
        "    diabetesValue = 22\n",
        "\n",
        "  if userAsthma == 0:\n",
        "    asthmaValue = 0\n",
        "  elif userAsthma == 1:\n",
        "    asthmaValue = 1\n",
        "  else:\n",
        "    asthmaValue = 15\n",
        "  \n",
        "  if userKidney == 0:\n",
        "    kidneyValue = 0\n",
        "  else:\n",
        "    kidneyValue = 40\n",
        "\n",
        "  if userHeart == 0:\n",
        "    heartValue = 0\n",
        "  else:\n",
        "    heartValue = 22\n",
        "  \n",
        "  if userBloodCancer == 0:\n",
        "    bloodCancerValue = 0\n",
        "  else:\n",
        "    bloodCancerValue = 28\n",
        "  \n",
        "  if userCancer == 0:\n",
        "    cancerValue = 0\n",
        "  else:\n",
        "    cancerValue = 25\n",
        "\n",
        "  userRisk = userAge + genderValue + raceValue + BMIValue + diabetesValue + asthmaValue + kidneyValue + heartValue + bloodCancerValue + cancerValue\n",
        "  return userRisk\n",
        "\n",
        "personalRisk = personCalc(userAge, userGender, userRace, userBMI, userDiabetes, userAsthma, userKidney, userHeart, userBloodCancer, userCancer)\n",
        "\n",
        "#Displaying user's personal risk.\n",
        "print(\"Your health risk is: \" + str(personalRisk))\n",
        "\n",
        "#Giving general guideline's on user's risk.\n",
        "if personalRisk < 50: \n",
        "  print(\"This means you are at low risk\")\n",
        "elif personalRisk < 69:\n",
        "  print(\"This means you are at moderate risk\")\n",
        "elif personalRisk < 84:\n",
        "  print(\"This means you are at high risk\")\n",
        "else:\n",
        "  print(\"This means you are at very high risk\")"
      ],
      "metadata": {
        "colab": {
          "base_uri": "https://localhost:8080/"
        },
        "id": "nCV4Z1Tk1Ois",
        "outputId": "ab1af5c8-ee1b-4a7f-e508-f78dae167cf3"
      },
      "execution_count": null,
      "outputs": [
        {
          "output_type": "stream",
          "name": "stdout",
          "text": [
            "Please enter your age from 16-99: 30\n",
            "Please enter your gender (Male, Female, Other): Male\n",
            "Please enter your race (White, Asian, Black, Mixed, Other): White\n",
            "Please enter your BMI: 32\n",
            "Do you have diabetes? 0 for no, 1 for type 1, 2 for type 2: 0\n",
            "Do you have asthma? 0 for no, 1 for mild, 2 for severe: 0\n",
            "Do you have a kidney disease? 0 for no, 1 for yes: 0\n",
            "Do you have a heart disease? 0 for no, 1 for yes: 0\n",
            "Do you have a blood cancer? 0 for no, 1 for yes: 0\n",
            "Do you have a cancer? 0 for no, 1 for yes: 0\n",
            "Your health risk is: 37\n",
            "This means you are at low risk\n"
          ]
        }
      ]
    },
    {
      "cell_type": "code",
      "source": [
        "#A function that computes an overall risk based on user's personal and area risk value.\n",
        "def totalRisk():\n",
        "  return round((int(personalRisk) * int(result[0]))/100)\n",
        "\n",
        "finalRisk = totalRisk()\n",
        "print(\"Your total risk is: \" + str(finalRisk))"
      ],
      "metadata": {
        "colab": {
          "base_uri": "https://localhost:8080/"
        },
        "id": "1fydAOA92d0v",
        "outputId": "1761e308-3d41-46c3-b8df-52ea70bfb150"
      },
      "execution_count": null,
      "outputs": [
        {
          "output_type": "stream",
          "name": "stdout",
          "text": [
            "Your total risk is: 27\n"
          ]
        }
      ]
    },
    {
      "cell_type": "code",
      "source": [
        "!pip install gradio\n",
        "import gradio as gr"
      ],
      "metadata": {
        "id": "76ctk3k4KVid"
      },
      "execution_count": null,
      "outputs": []
    },
    {
      "cell_type": "code",
      "source": [
        "areaRiskGradio = gr.Interface(\n",
        "  fn = areaCalc,\n",
        "  inputs=[\"text\"],\n",
        "  outputs=[\"text\"]\n",
        ")\n",
        "areaRiskGradio.launch()"
      ],
      "metadata": {
        "colab": {
          "base_uri": "https://localhost:8080/",
          "height": 640
        },
        "id": "R4tctA-HFHdh",
        "outputId": "7d0bebd5-75b2-41b0-cc0e-6d54cc407339"
      },
      "execution_count": 64,
      "outputs": [
        {
          "output_type": "stream",
          "name": "stdout",
          "text": [
            "Colab notebook detected. To show errors in colab notebook, set `debug=True` in `launch()`\n",
            "Running on public URL: https://53364.gradio.app\n",
            "\n",
            "This share link expires in 72 hours. For free permanent hosting, check out Spaces (https://huggingface.co/spaces)\n"
          ]
        },
        {
          "output_type": "display_data",
          "data": {
            "text/html": [
              "\n",
              "        <iframe\n",
              "            width=\"900\"\n",
              "            height=\"500\"\n",
              "            src=\"https://53364.gradio.app\"\n",
              "            frameborder=\"0\"\n",
              "            allowfullscreen\n",
              "        ></iframe>\n",
              "        "
            ],
            "text/plain": [
              "<IPython.lib.display.IFrame at 0x7fd7172d4090>"
            ]
          },
          "metadata": {}
        },
        {
          "output_type": "execute_result",
          "data": {
            "text/plain": [
              "(<fastapi.applications.FastAPI at 0x7fd735f68690>,\n",
              " 'http://127.0.0.1:7872/',\n",
              " 'https://53364.gradio.app')"
            ]
          },
          "metadata": {},
          "execution_count": 64
        }
      ]
    },
    {
      "cell_type": "code",
      "source": [
        "personalRiskGradio = gr.Interface(\n",
        "  fn = personCalc,\n",
        "  inputs=[gr.inputs.Slider(0, 100), \"text\", \"text\", \"number\", \"number\", \"number\", \"number\", \"number\", \"number\", \"number\"],\n",
        "  outputs=[\"text\"]\n",
        ")\n",
        "personalRiskGradio.launch()"
      ],
      "metadata": {
        "colab": {
          "base_uri": "https://localhost:8080/",
          "height": 640
        },
        "id": "dfR00-QuFy6b",
        "outputId": "37bb7e20-8b00-4aa2-aded-83fb0821dbfd"
      },
      "execution_count": 68,
      "outputs": [
        {
          "output_type": "stream",
          "name": "stdout",
          "text": [
            "Colab notebook detected. To show errors in colab notebook, set `debug=True` in `launch()`\n",
            "Running on public URL: https://20213.gradio.app\n",
            "\n",
            "This share link expires in 72 hours. For free permanent hosting, check out Spaces (https://huggingface.co/spaces)\n"
          ]
        },
        {
          "output_type": "display_data",
          "data": {
            "text/html": [
              "\n",
              "        <iframe\n",
              "            width=\"900\"\n",
              "            height=\"500\"\n",
              "            src=\"https://20213.gradio.app\"\n",
              "            frameborder=\"0\"\n",
              "            allowfullscreen\n",
              "        ></iframe>\n",
              "        "
            ],
            "text/plain": [
              "<IPython.lib.display.IFrame at 0x7fd717439990>"
            ]
          },
          "metadata": {}
        },
        {
          "output_type": "execute_result",
          "data": {
            "text/plain": [
              "(<fastapi.applications.FastAPI at 0x7fd735f68690>,\n",
              " 'http://127.0.0.1:7876/',\n",
              " 'https://20213.gradio.app')"
            ]
          },
          "metadata": {},
          "execution_count": 68
        }
      ]
    },
    {
      "cell_type": "code",
      "execution_count": null,
      "metadata": {
        "colab": {
          "base_uri": "https://localhost:8080/",
          "height": 129
        },
        "id": "oGwVb3pTzVZS",
        "outputId": "cdd20ffc-8fb9-4e3b-92fa-fd97c0739d6b"
      },
      "outputs": [
        {
          "output_type": "error",
          "ename": "SyntaxError",
          "evalue": "ignored",
          "traceback": [
            "\u001b[0;36m  File \u001b[0;32m\"<ipython-input-48-5d8527114617>\"\u001b[0;36m, line \u001b[0;32m5\u001b[0m\n\u001b[0;31m    def userName(n)\u001b[0m\n\u001b[0m                   ^\u001b[0m\n\u001b[0;31mSyntaxError\u001b[0m\u001b[0;31m:\u001b[0m invalid syntax\n"
          ]
        }
      ],
      "source": [
        "!pip install gradio\n",
        "\n",
        "import gradio as gr\n",
        "\n",
        "def userRace(race, raceValue):\n",
        "  if userRace == \"White\":\n",
        "    raceValue = 0\n",
        "  if userRace == \"Asian\":\n",
        "    raceValue = 5\n",
        "  if userRace == \"Black\":\n",
        "    raceValue = 7\n",
        "  else:\n",
        "    raceValue = 4\n",
        "\n",
        "\n",
        "\n",
        "'''\n",
        "ageIface = gr.Interface(fn=userAge, inputs=\"text\", outputs=\"text\")\n",
        "ageIface.launch()\n",
        "\n",
        "def userRace(race, raceValue):\n",
        "  if userRace == \"White\":\n",
        "    raceValue = 0\n",
        "  if userRace == \"Asian\":\n",
        "    raceValue = 5\n",
        "  if userRace == \"Black\":\n",
        "    raceValue = 7\n",
        "  else:\n",
        "    raceValue = 4\n",
        "\n",
        "raceIface = gr.Interface(userRace, \n",
        "    [\"number\", gr.inputs.Radio([\"White\", \"Asian\", \"Black\", \"Mixed Race\", \"Other\"]), \"number\"],\n",
        "    \"number\",\n",
        "    title=\"Select your race:\",\n",
        "    flagging_options=[\"this\", \"or\", \"that\"],\n",
        ")\n",
        "'''"
      ]
    }
  ]
}