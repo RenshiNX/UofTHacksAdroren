{
  "nbformat": 4,
  "nbformat_minor": 0,
  "metadata": {
    "colab": {
      "name": "GUI Dev Plan",
      "provenance": []
    },
    "kernelspec": {
      "name": "python3",
      "display_name": "Python 3"
    },
    "language_info": {
      "name": "python"
    }
  },
  "cells": [
    {
      "cell_type": "code",
      "execution_count": null,
      "metadata": {
        "id": "A1ZkRnmBJiJt"
      },
      "outputs": [],
      "source": [
        "'''\n",
        "\n",
        "Total 11 User Inputs and Three Outputs. Age and BMI are numbers which the user needs to enter. OtherConditions will be a check box\n",
        "and the rest will be from a drop down menu. Check this out for inspiration: https://alama.org.uk/covid-19-medical-risk-assessment/\n",
        "\n",
        "Age = Integer\n",
        "Race = {White, Asian, Black, Mixed, Other}\n",
        "BMI = Float\n",
        "Diabetes = {None, Type 1, Type 2}\n",
        "Asthma = {None, mild, severe}\n",
        "Kidney Disease = {No, Yes}\n",
        "Heart Disease = {No, Yes}\n",
        "Blood Cancer = {No, Yes}\n",
        "Non-Blood Cancer = {No, Yes}\n",
        "OtherConditions = {Chronic Respiratory Condition, Hypertension, Cerebrovascular disease, Liver disease,\n",
        "Chronic neurological disease other than stroke or dementia, Organ transplant recipient, Spleen diseases,\n",
        "Rheumatoid Arthritis, Lupus or Psoriasis, Other immunosuppressive condition}\n",
        "\n",
        "------------\n",
        "\n",
        "Area = {\n",
        "\n",
        "Algoma Public Health\n",
        "Brant County Health Unit\n",
        "Chatham-Kent Public Health\n",
        "City of Hamilton Public Health Services\n",
        "Durham Region Health Department \n",
        "Eastern Ontario Health Unit\n",
        "Grey Bruce Health Unit\n",
        "Haldimand-Norfolk Health Unit\n",
        "Haliburton, Kawartha, Pine Ridge District Health Unit \n",
        "Halton Region Public Health\n",
        "Hastings Prince Edward Public Health\n",
        "Huron Perth Health Unit\n",
        "Kingston, Frontenac and Lennox & Addington Public Health\n",
        "Lambton Public Health\n",
        "Leeds, Grenville & Lanark District Health Unit\n",
        "Middlesex-London Health Unit\n",
        "Niagara Region Public Health\n",
        "North Bay Parry Sound District Health Unit\n",
        "Northwestern Health Unit\n",
        "Ottawa Public Health\n",
        "Peel Public Health\n",
        "Peterborough Public Health \n",
        "Porcupine Health Unit\n",
        "Public Health Sudbury & Districts\n",
        "Region of Waterloo Public Health and Emergency Services\n",
        "Renfrew County and District Health Unit\n",
        "Simcoe Muskoka District Health Unit \n",
        "Southwestern Public Health\n",
        "Thunder Bay District Health Unit\n",
        "Timiskaming Health Unit\n",
        "Toronto Public Health\n",
        "Wellington-Dufferin-Guelph Public Health\n",
        "Windsor-Essex County Health Unit \n",
        "York Region Public Health\n",
        "\n",
        "}\n",
        "'''\n",
        "\n",
        "def CovidRisk(age, race, BMI, Diabetes, Asthma, Kidney, Heart, BloodCancer, Cancer, OtherConditions, Area):\n",
        "  covidAge = 30 #actual formula will go in here later.\n",
        "  areaRisk = 10 #actual will go in here later\n",
        "  riskScore = (covidAge + areaRisk)/2\n",
        "\n",
        "  return covidAge, areaRisk, riskScore"
      ]
    }
  ]
}