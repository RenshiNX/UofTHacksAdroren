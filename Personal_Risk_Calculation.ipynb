{
  "nbformat": 4,
  "nbformat_minor": 0,
  "metadata": {
    "colab": {
      "name": "Personal Risk Calculation",
      "provenance": [],
      "collapsed_sections": []
    },
    "kernelspec": {
      "name": "python3",
      "display_name": "Python 3"
    },
    "language_info": {
      "name": "python"
    }
  },
  "cells": [
    {
      "cell_type": "code",
      "execution_count": 5,
      "metadata": {
        "colab": {
          "base_uri": "https://localhost:8080/"
        },
        "id": "Qn7txNzHkuVA",
        "outputId": "2561c40b-87b2-4621-e4c7-7f9ad002886e"
      },
      "outputs": [
        {
          "output_type": "stream",
          "name": "stdout",
          "text": [
            "Please enter your age from 16-99: 18\n",
            "Please enter your gender (Male, Female, Other): Male\n",
            "Please enter your race (White, Asian, Black, Mixed, Other): White\n",
            "Please enter your BMI: 28\n",
            "Do you have diabetes? 0 for no, 1 for type 1, 2 for type 2: 0\n",
            "Do you have asthma? 0 for no, 1 for mild, 2 for severe: 1\n",
            "Do you have a kidney disease? 0 for no, 1 for yes: 0\n",
            "Do you have a heart disease? 0 for no, 1 for yes: 1\n",
            "Do you have a blood cancer? 0 for no, 1 for yes: 0\n",
            "Do you have a cancer? 0 for no, 1 for yes: 0\n",
            "Your health risk is: 41\n",
            "This means you are at low risk\n"
          ]
        }
      ],
      "source": [
        "userAge = int(input(\"Please enter your age from 16-99: \"))\n",
        "userGender = input(\"Please enter your gender (Male, Female, Other): \")\n",
        "userRace = input(\"Please enter your race (White, Asian, Black, Mixed, Other): \")\n",
        "userBMI = float(input(\"Please enter your BMI: \"))\n",
        "userDiabetes = int(input(\"Do you have diabetes? 0 for no, 1 for type 1, 2 for type 2: \"))\n",
        "userAsthma = int(input(\"Do you have asthma? 0 for no, 1 for mild, 2 for severe: \"))\n",
        "userKidney = int(input(\"Do you have a kidney disease? 0 for no, 1 for yes: \"))\n",
        "userHeart = int(input(\"Do you have a heart disease? 0 for no, 1 for yes: \"))\n",
        "userBloodCancer = int(input(\"Do you have a blood cancer? 0 for no, 1 for yes: \"))\n",
        "userCancer = int(input(\"Do you have a cancer? 0 for no, 1 for yes: \"))\n",
        "\n",
        "def personCalc():\n",
        "  if userRace == \"White\":\n",
        "    raceValue = 0\n",
        "  elif userRace == \"Asian\":\n",
        "    raceValue = 5\n",
        "  elif userRace == \"Black\":\n",
        "    raceValue = 7\n",
        "  else:\n",
        "    raceValue = 4\n",
        "  \n",
        "  if userGender == \"Male\":\n",
        "    genderValue = 0\n",
        "  elif userGender == \"Female\":\n",
        "    genderValue = -5\n",
        "  else:\n",
        "    genderValue = 0\n",
        "  \n",
        "  if userBMI < 30:\n",
        "    BMIValue = 0\n",
        "  elif userBMI < 35:\n",
        "    BMIValue = 7\n",
        "  elif userBMI < 40:\n",
        "    BMIValue = 19\n",
        "  else:\n",
        "    BMIValue = 25\n",
        "  \n",
        "  if userDiabetes == 0:\n",
        "    diabetesValue = 0\n",
        "  elif userDiabetes == 1:\n",
        "    diabetesValue = 25\n",
        "  else:\n",
        "    diabetesValue = 22\n",
        "\n",
        "  if userAsthma == 0:\n",
        "    asthmaValue = 0\n",
        "  elif userAsthma == 1:\n",
        "    asthmaValue = 1\n",
        "  else:\n",
        "    asthmaValue = 15\n",
        "  \n",
        "  if userKidney == 0:\n",
        "    kidneyValue = 0\n",
        "  else:\n",
        "    kidneyValue = 40\n",
        "\n",
        "  if userHeart == 0:\n",
        "    heartValue = 0\n",
        "  else:\n",
        "    heartValue = 22\n",
        "  \n",
        "  if userBloodCancer == 0:\n",
        "    bloodCancerValue = 0\n",
        "  else:\n",
        "    bloodCancerValue = 28\n",
        "  \n",
        "  if userCancer == 0:\n",
        "    cancerValue = 0\n",
        "  else:\n",
        "    cancerValue = 25\n",
        "\n",
        "  userRisk = userAge + genderValue + raceValue + BMIValue + diabetesValue + asthmaValue + kidneyValue + heartValue + bloodCancerValue + cancerValue\n",
        "  return userRisk\n",
        "\n",
        "personalRisk = personCalc()\n",
        "\n",
        "print(\"Your health risk is: \" + str(personalRisk))\n",
        "\n",
        "if personalRisk < 50:\n",
        "  print(\"This means you are at low risk\")\n",
        "elif personalRisk < 69:\n",
        "  print(\"This means you are at moderate risk\")\n",
        "elif personalRisk < 84:\n",
        "  print(\"This means you are at high risk\")\n",
        "else:\n",
        "  print(\"This means you are at very high risk\")"
      ]
    }
  ]
}