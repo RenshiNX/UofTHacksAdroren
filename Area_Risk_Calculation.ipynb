{
  "nbformat": 4,
  "nbformat_minor": 0,
  "metadata": {
    "colab": {
      "name": "Risk Calculation",
      "provenance": [],
      "collapsed_sections": []
    },
    "kernelspec": {
      "name": "python3",
      "display_name": "Python 3"
    },
    "language_info": {
      "name": "python"
    }
  },
  "cells": [
    {
      "cell_type": "code",
      "execution_count": 67,
      "metadata": {
        "colab": {
          "base_uri": "https://localhost:8080/"
        },
        "id": "kXrp754wTANZ",
        "outputId": "386406a1-3143-44cd-c094-c9c777c38e00"
      },
      "outputs": [
        {
          "output_type": "stream",
          "name": "stdout",
          "text": [
            "Please select one of the following public health regions: Peel Public Health\n",
            "Peel Public Health has a overall risk of: 74\n",
            "Peel Public Health has a case risk of: 32\n",
            "Peel Public Health has a hospitalization risk of: 22\n",
            "Peel Public Health has a death risk of: 19\n"
          ]
        }
      ],
      "source": [
        "import pandas as pd\n",
        "import seaborn as sns\n",
        "\n",
        "ontarioMapStats = pd.read_csv('https://raw.githubusercontent.com/RenshiNX/UofTHacksAdroren/main/COVID-19%20map%20data.csv')\n",
        "\n",
        "ontarioMapStats['Area Risk'] = (ontarioMapStats['Cumulative Case Rate'] + ontarioMapStats['Cumulative Hospitalizations Rate']*26.38 + ontarioMapStats['Cumulative Deaths Rate']*89.47)/330.12276\n",
        "ontarioMapStats['Case Risk'] = (ontarioMapStats['Cumulative Case Rate'])/330.12276\n",
        "ontarioMapStats['Hospitalization Risk'] = (ontarioMapStats['Cumulative Hospitalizations Rate']*26.38)/330.12276\n",
        "ontarioMapStats['Death Risk'] = (ontarioMapStats['Cumulative Deaths Rate']*89.47)/330.12276\n",
        "\n",
        "ontarioMapStats = ontarioMapStats[['Geographic area', 'Area Risk', 'Case Risk', 'Hospitalization Risk', 'Death Risk']]\n",
        "ontarioMapStats = ontarioMapStats.drop(0)\n",
        "ontarioMapStats\n",
        "\n",
        "''' Algoma Public Health\n",
        "Brant County Health Unit\n",
        "Chatham-Kent Public Health\n",
        "City of Hamilton Public Health Services\n",
        "Durham Region Health Department \n",
        "Eastern Ontario Health Unit\n",
        "Grey Bruce Health Unit\n",
        "Haldimand-Norfolk Health Unit\n",
        "Haliburton, Kawartha, Pine Ridge District Health Unit \n",
        "Halton Region Public Health\n",
        "Hastings Prince Edward Public Health\n",
        "Huron Perth Health Unit\n",
        "Kingston, Frontenac and Lennox & Addington Public Health\n",
        "Lambton Public Health\n",
        "Leeds, Grenville & Lanark District Health Unit\n",
        "Middlesex-London Health Unit\n",
        "Niagara Region Public Health\n",
        "North Bay Parry Sound District Health Unit\n",
        "Northwestern Health Unit\n",
        "Ottawa Public Health\n",
        "Peel Public Health\n",
        "Peterborough Public Health \n",
        "Porcupine Health Unit\n",
        "Public Health Sudbury & Districts\n",
        "Region of Waterloo Public Health and Emergency Services\n",
        "Renfrew County and District Health Unit\n",
        "Simcoe Muskoka District Health Unit \n",
        "Southwestern Public Health\n",
        "Thunder Bay District Health Unit\n",
        "Timiskaming Health Unit\n",
        "Toronto Public Health\n",
        "Wellington-Dufferin-Guelph Public Health\n",
        "Windsor-Essex County Health Unit \n",
        "York Region Public Health '''\n",
        "\n",
        "userArea = input(\"Please select one of the following public health regions: \")\n",
        "\n",
        "def areaCalc(userAreaTMP):\n",
        "  for index, row in ontarioMapStats.iterrows():\n",
        "    if userArea == row['Geographic area']:\n",
        "      userAreaRisk = str(round(row['Area Risk']))\n",
        "      userCaseRisk = str(round(row['Case Risk']))\n",
        "      userHospitalizationRisk = str(round(row['Hospitalization Risk']))\n",
        "      userDeathRisk = str(round(row['Death Risk']))\n",
        "    else:\n",
        "      pass\n",
        "  return userAreaRisk, userCaseRisk, userHospitalizationRisk, userDeathRisk\n",
        "\n",
        "result = areaCalc(userArea)\n",
        "print(userArea + \" has a overall risk of: \" + result[0])\n",
        "print(userArea + \" has a case risk of: \" + result[1])\n",
        "print(userArea + \" has a hospitalization risk of: \" + result[2])\n",
        "print(userArea + \" has a death risk of: \" + result[3])"
      ]
    }
  ]
}
